{
 "metadata": {
  "name": "",
  "signature": "sha256:5b3578d53c471b5f51d288c7a936409464db07b4713274436e0a5489e040aa86"
 },
 "nbformat": 3,
 "nbformat_minor": 0,
 "worksheets": [
  {
   "cells": [
    {
     "cell_type": "code",
     "collapsed": false,
     "input": [
      "import os\n",
      "import matplotlib.pyplot as plt\n",
      "import numpy as np\n",
      "%matplotlib inline"
     ],
     "language": "python",
     "metadata": {},
     "outputs": [],
     "prompt_number": 26
    },
    {
     "cell_type": "code",
     "collapsed": false,
     "input": [
      "import seaborn as sns\n",
      "sns.set_style(\"whitegrid\")"
     ],
     "language": "python",
     "metadata": {},
     "outputs": [],
     "prompt_number": 27
    },
    {
     "cell_type": "code",
     "collapsed": false,
     "input": [
      "def makebar(krankenkassenbeitrag, rabatt):\n",
      "    \n",
      "    if rabatt==-1:\n",
      "        plt.figure(figsize=(9,4.5))\n",
      "        plt.xlim(0, 120)\n",
      "        plt.ylim(0, 10)\n",
      "        plt.text(60,5,'#Quantifiedself \\o/', size=55, ha='center', alpha=0.9)\n",
      "        plt.savefig('krankenkassenbeitrag-%02d-rabatt.png' % (rabatt+1), dpi=150)\n",
      "        return 'Done.'\n",
      "    \n",
      "    plt.figure(figsize=(9,4.5))\n",
      "    plt.barh(range(10), krankenkassenbeitrag, edgecolor='k', label='Beitrag', color='#94C600')\n",
      "    plt.xlim(0, 120)\n",
      "    plt.xlabel('Krankenkassenbeitrag [%]')\n",
      "    plt.ylabel('Person')\n",
      "    plt.axvline(np.mean(krankenkassenbeitrag), label='Mittelwert')\n",
      "    plt.legend(loc=3)\n",
      "    \n",
      "    # Annotations\n",
      "    plt.text(50,9.1,'#Quantifiedself \\o/', size=15, ha='center', alpha=0.9)\n",
      "    for i in range(len(krankenkassenbeitrag)):\n",
      "        plt.text(118,i+0.3,'%3.1f%%' % krankenkassenbeitrag[i] , size=10, ha='right', alpha=0.9)\n",
      "\n",
      "    plt.savefig('krankenkassenbeitrag-%03d-rabatt.png' % (rabatt+1), dpi=150)\n",
      "    plt.close()"
     ],
     "language": "python",
     "metadata": {},
     "outputs": [],
     "prompt_number": 28
    },
    {
     "cell_type": "code",
     "collapsed": false,
     "input": [
      "krankenkassenbeitrag = np.ones(10)*100.0\n",
      "makebar(krankenkassenbeitrag, -1)"
     ],
     "language": "python",
     "metadata": {},
     "outputs": [
      {
       "metadata": {},
       "output_type": "pyout",
       "prompt_number": 29,
       "text": [
        "'Done.'"
       ]
      },
      {
       "metadata": {},
       "output_type": "display_data",
       "png": "[encoded data removed]",
       "text": [
        "<matplotlib.figure.Figure at 0x12cefd6d0>"
       ]
      }
     ],
     "prompt_number": 29
    },
    {
     "cell_type": "code",
     "collapsed": false,
     "input": [
      "maxrabatt = 100\n",
      "for rabatt in range(maxrabatt):\n",
      "    # Teilnehmerrabatt\n",
      "    krankenkassenbeitrag[9]-=0.1\n",
      "    \n",
      "    # Alle anderen\n",
      "    krankenkassenbeitrag[0:9]+=0.01\n",
      "    \n",
      "    makebar(krankenkassenbeitrag, rabatt)"
     ],
     "language": "python",
     "metadata": {},
     "outputs": [],
     "prompt_number": 30
    },
    {
     "cell_type": "code",
     "collapsed": false,
     "input": [],
     "language": "python",
     "metadata": {},
     "outputs": [],
     "prompt_number": 30
    },
    {
     "cell_type": "heading",
     "level": 3,
     "metadata": {},
     "source": [
      "Make them to GIF"
     ]
    },
    {
     "cell_type": "code",
     "collapsed": false,
     "input": [],
     "language": "python",
     "metadata": {},
     "outputs": [],
     "prompt_number": 30
    },
    {
     "cell_type": "code",
     "collapsed": false,
     "input": [
      "os.system('convert -delay 10 -loop 1 krankenkassenbeitrag*.png krankenkassenbeitrag.gif')\n",
      "os.system('rm krankenkassenbeitrag*.png')"
     ],
     "language": "python",
     "metadata": {},
     "outputs": [
      {
       "metadata": {},
       "output_type": "pyout",
       "prompt_number": 31,
       "text": [
        "0"
       ]
      }
     ],
     "prompt_number": 31
    },
    {
     "cell_type": "code",
     "collapsed": false,
     "input": [],
     "language": "python",
     "metadata": {},
     "outputs": [],
     "prompt_number": 31
    }
   ],
   "metadata": {}
  }
 ]
}